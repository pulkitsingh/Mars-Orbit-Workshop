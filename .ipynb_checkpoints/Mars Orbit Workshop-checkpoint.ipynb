{
 "cells": [
  {
   "cell_type": "markdown",
   "metadata": {},
   "source": [
    "<img src=\"images/into.jpg\" align=\"left\">"
   ]
  },
  {
   "cell_type": "markdown",
   "metadata": {},
   "source": [
    "#### Welcome!\n",
    "\n",
    "In this workshop, we're going to recreate Kepler's breakthrough discovery of the elliptical orbit of Mars. This was a turning point in the history of science, as it showed us that we weren't at the center of the Universe, and that we could discover it's mysteries with the right approach!\n",
    "\n",
    "With the help of modern technology, we can do in a couple of hours what took Kepler about 20 years! Remember this is an interactive session, so **please ask questions** whenever something is unclear. \n",
    "\n",
    "With that, let's jump right in!\n"
   ]
  },
  {
   "cell_type": "markdown",
   "metadata": {},
   "source": [
    "## Part 1: Triangulating the Locations of Mars"
   ]
  },
  {
   "cell_type": "markdown",
   "metadata": {},
   "source": [
    "In this section, we are going to triangulate the locations of Mars by using our knowledge of its orbital period. \n",
    "\n",
    "Let's say we record the position of Earth and measured the angle to Mars on a particular day. Then, 687 days later, we know that Mars is going to be in the same place, but Earth is not. So, we record Earth's location and measure the angle to Mars again.\n",
    "\n",
    "Then from the pair of Earth locations and Mars angles, we can find Mars!"
   ]
  },
  {
   "cell_type": "markdown",
   "metadata": {},
   "source": [
    "<img src=\"images/triangulationDiagram.jpg\" height=\"550\" width=\"550\">"
   ]
  },
  {
   "cell_type": "markdown",
   "metadata": {},
   "source": [
    "Then, each of our paired-observations will look something like this:"
   ]
  },
  {
   "cell_type": "markdown",
   "metadata": {},
   "source": [
    "\n",
    "\n",
    "| Earth Locations | Mars Angles |\n",
    "|:----------------------:|:----------------------:|\n",
    "| [x1, y1]               | marsAngle1             |\n",
    "| [x2, y2]               | marsAngle2             |\n",
    "\n"
   ]
  },
  {
   "cell_type": "markdown",
   "metadata": {},
   "source": [
    "Now that we understand what the data looks like, we can start programming! For this section we are going to use the triangulate module from the mars_orbit package that has been provided to you."
   ]
  },
  {
   "cell_type": "code",
   "execution_count": 6,
   "metadata": {},
   "outputs": [],
   "source": [
    "from mars_orbit import triangulate"
   ]
  },
  {
   "cell_type": "markdown",
   "metadata": {},
   "source": [
    "### Loading the Data"
   ]
  },
  {
   "cell_type": "code",
   "execution_count": 8,
   "metadata": {},
   "outputs": [],
   "source": [
    "# TASK: Load the data into two lists - earthLocations and marsAngles.\n",
    "\n",
    "# triangulate has a loadData function.\n",
    "#    Input:  none\n",
    "#    Output: earthLocations, list of Earth Locations\n",
    "#            marsAngles, list of angles to Mars\n",
    "\n",
    "earthLocations = None\n",
    "marsAngles = None\n",
    "\n",
    "### START CODE HERE ###\n",
    "\n",
    "\n",
    "### END CODE HERE  ###"
   ]
  },
  {
   "cell_type": "markdown",
   "metadata": {},
   "source": [
    "### Visualizing Earth Locations"
   ]
  },
  {
   "cell_type": "code",
   "execution_count": null,
   "metadata": {},
   "outputs": [],
   "source": [
    "# Task: Make a plot of the earth locations\n",
    "\n",
    "# triangulate has a plotEarthLocations function.\n",
    "#    Input:  earthLocations, list of x-y coordinates of Earth\n",
    "#    Output: required plot\n",
    "\n",
    "### START CODE HERE ###\n",
    "\n",
    "\n",
    "### END CODE HERE  ###"
   ]
  },
  {
   "cell_type": "markdown",
   "metadata": {},
   "source": [
    "**Expected Output:**\n",
    "\n",
    "<img src=\"images/earthPlot.png\">"
   ]
  },
  {
   "cell_type": "markdown",
   "metadata": {},
   "source": [
    "### Finding five positions of Mars"
   ]
  },
  {
   "cell_type": "code",
   "execution_count": 3,
   "metadata": {},
   "outputs": [
    {
     "name": "stdout",
     "output_type": "stream",
     "text": [
      "[]\n"
     ]
    }
   ],
   "source": [
    "# TASK: Find five positions of Mars, make list called marsLocations\n",
    "\n",
    "# triangulate has a findMars function.\n",
    "#    Input:  earthLocation1, marsAngle1, earthLocation2, marsAngle2\n",
    "#    Output: marsLocation, the triangulated location of Mars\n",
    "\n",
    "marsLocations = []\n",
    "\n",
    "### START CODE HERE ###\n",
    "# Hint: you might want to use a for loop!\n",
    "\n",
    "\n",
    "\n",
    "### END CODE HERE  ###\n",
    "\n",
    "print marsLocations"
   ]
  },
  {
   "cell_type": "markdown",
   "metadata": {},
   "source": [
    "**Expected Result:**\n",
    "\n",
    "<table> \n",
    "<tr> \n",
    "<td>\n",
    "**Mars Locations (rounded) **\n",
    "</td>\n",
    "<td>\n",
    "[[-1.4529, 0.8655], [1.1956, -0.6868], [1.0738, 1.0511], [-1.6323, -0.1485], [-1.5537, 0.6248]]\n",
    "\n",
    "</td>\n",
    "</tr> \n",
    "\n",
    "</table> "
   ]
  },
  {
   "cell_type": "markdown",
   "metadata": {},
   "source": [
    "### Fitting a circle for the Orbit"
   ]
  },
  {
   "cell_type": "markdown",
   "metadata": {},
   "source": [
    "Congratulations! You've successfully triangulated the locations of Mars from the data. Now that we have these locations, let's fit a circle to these locations and observe the radius of the orbit. Then, we can go ahead and plot our results."
   ]
  },
  {
   "cell_type": "code",
   "execution_count": 4,
   "metadata": {},
   "outputs": [
    {
     "name": "stdout",
     "output_type": "stream",
     "text": [
      "Radius of best fit circle: None\n"
     ]
    }
   ],
   "source": [
    "# TASK: Find the radius of the best-fit circle for the triangulated locations of Mars\n",
    "\n",
    "# triangulate has a computeRadius function.\n",
    "#    Input:  marsLocations, list of Mars's locations\n",
    "#    Output: triangulatedRadius, radius of best-fit circle\n",
    "\n",
    "triangulatedRadius = None\n",
    "\n",
    "### START CODE HERE ###\n",
    "\n",
    "\n",
    "### END CODE HERE  ###\n",
    "\n",
    "print \"Radius of best fit circle:\", triangulatedRadius"
   ]
  },
  {
   "cell_type": "markdown",
   "metadata": {},
   "source": [
    "**Expected Result:**\n",
    "\n",
    "<table> \n",
    "<tr> \n",
    "<td>\n",
    "**Radius of best fit circle:**\n",
    "</td>\n",
    "<td>\n",
    "1.57732091444\n",
    "    </td>\n",
    "</tr> \n",
    "\n",
    "</table> "
   ]
  },
  {
   "cell_type": "markdown",
   "metadata": {},
   "source": [
    "### Plotting results of Triangulation"
   ]
  },
  {
   "cell_type": "code",
   "execution_count": 5,
   "metadata": {},
   "outputs": [],
   "source": [
    "# TASK: Plot the results of the triangulation process\n",
    "\n",
    "# triangulate has a plotTriangulations function.\n",
    "#    Input:  marsLocations, list of Mars locations\n",
    "#            triangulatedRadius, radius of best-fit circle to triangulations\n",
    "#    Output: plot with Mars locations and best-fit circle\n",
    "\n",
    "### START CODE HERE ###\n",
    "\n",
    "\n",
    "### END CODE HERE  ###"
   ]
  },
  {
   "cell_type": "markdown",
   "metadata": {},
   "source": [
    "**Expected Result:**\n",
    " \n",
    " <img src=\"images/triangulationPlot.png\">\n",
    " \n",
    " \n",
    " "
   ]
  },
  {
   "cell_type": "markdown",
   "metadata": {},
   "source": [
    "## Part 2: Fitting the Mars Orbital Plane"
   ]
  },
  {
   "cell_type": "markdown",
   "metadata": {},
   "source": [
    "Congratulations! We've successfully used the data to triangulate five positions of Mars. As we discussed, these triangulated locations are actually the projections of Mars on the ecliptic plane. So now, in order to find the actual Mars locations, we must find the Mars Orbital Plane. For this, we will use the opposition dataset.\n",
    "\n",
    "We know that an opposition occurs when the Sun, Mars and Earth lie on the same straight line. When this happens, the angle to Mars is the same from both the Earth and the Sun, as shown below:\n",
    "\n",
    "\n",
    "\n"
   ]
  },
  {
   "cell_type": "markdown",
   "metadata": {},
   "source": [
    "<img src=\"images/oppositionDiagram.jpg\">"
   ]
  },
  {
   "cell_type": "markdown",
   "metadata": {},
   "source": [
    "Kepler made use of precisely this \"opposition trick\" to calculate the Mars Orbital plane. So, we the have longitude to Mars with respect to the Sun. We also have latitudes to Mars with respect to the Earth. From these two lists, we can find the coordinates of Mars on the celestial sphere. The code will walk you through the process. Let's get started!"
   ]
  },
  {
   "cell_type": "code",
   "execution_count": 6,
   "metadata": {},
   "outputs": [],
   "source": [
    "from mars_orbit import plane"
   ]
  },
  {
   "cell_type": "markdown",
   "metadata": {},
   "source": [
    "### Loading the Data"
   ]
  },
  {
   "cell_type": "code",
   "execution_count": 7,
   "metadata": {},
   "outputs": [],
   "source": [
    "# TASK: Load the data into two lists - helioLong and geoLat\n",
    "\n",
    "# plane has a loadData function.\n",
    "#    Input:  none\n",
    "#    Output: helioLong, list of Mars longitudes with respect to the Sun\n",
    "#            geoLat, list of Mars latitudes with respect to the Earth\n",
    "\n",
    "### START CODE HERE ###\n",
    "\n",
    "\n",
    "### END CODE HERE  ###"
   ]
  },
  {
   "cell_type": "markdown",
   "metadata": {},
   "source": [
    "### Finding Heliocentric Latitudes from Geocentric Latitudes"
   ]
  },
  {
   "cell_type": "markdown",
   "metadata": {},
   "source": [
    "<img src=\"images/latitudeConversion.jpg\">"
   ]
  },
  {
   "cell_type": "markdown",
   "metadata": {},
   "source": [
    "The diagram above illutrates the relationship between geocetric latitudes and heliocentric latitudes at opposition. Since we have the radius of projection on the Ecliptic plane (from Part 1), we can convert the given geocentric latitudes to heliocentric latitudes.\n",
    "\n"
   ]
  },
  {
   "cell_type": "code",
   "execution_count": 8,
   "metadata": {},
   "outputs": [
    {
     "name": "stdout",
     "output_type": "stream",
     "text": [
      "[]\n"
     ]
    }
   ],
   "source": [
    "# TASK: Find the heliocentric Mars latitudes from the corresponding geocentric latitudes\n",
    "\n",
    "# plane has a findHelioLat function.\n",
    "#    Input:  triangulatedRadius, radius of best-fit circle to triangulations\n",
    "#            geoLat, list of geocentric Mars latitudes\n",
    "#    Output: helioLat, list of heliocentric Mars latitudes\n",
    "\n",
    "helioLat = []\n",
    "\n",
    "### START CODE HERE ###\n",
    "\n",
    "\n",
    "### END CODE HERE  ###\n",
    "\n",
    "print helioLat"
   ]
  },
  {
   "cell_type": "markdown",
   "metadata": {},
   "source": [
    "**Expected Result:**\n",
    "    \n",
    "    \n",
    "<table> \n",
    "<tr> \n",
    "<td>\n",
    "** Heliocentric Latitudes (first three) **\n",
    "</td>\n",
    "<td>\n",
    "[0.010649, 0.026230, 0.029012]\n",
    "</td>\n",
    "</tr> \n",
    "\n",
    "</table> "
   ]
  },
  {
   "cell_type": "markdown",
   "metadata": {},
   "source": [
    "### Finding the Coordinates of Mars on the Celestial Sphere"
   ]
  },
  {
   "cell_type": "markdown",
   "metadata": {},
   "source": [
    "Now that we have heliocentric longitudes and latitudes, we can find the locations of Mars on the celestial sphere. The geometry of this is not that important, it's sufficient to know that the intersection of the longitude and latitude lines result in a unique location on the celestial sphere."
   ]
  },
  {
   "cell_type": "code",
   "execution_count": 9,
   "metadata": {},
   "outputs": [],
   "source": [
    "# TASK: Find the coordinates of Mars on the celestial sphere from the heliocentric latitudes and longitudes\n",
    "\n",
    "# plane has a findCoordinates function.\n",
    "#    Input:  helioLong, list of heliocentric Mars longitudes\n",
    "#            helioLat , list of heliocentric Mars latitudes\n",
    "#    Output: coordinates, list of x-y-z coordinates of Mars on the celestial sphere\n",
    "\n",
    "coordinates = []\n",
    "\n",
    "### START CODE HERE ###\n",
    "\n",
    "\n",
    "### END CODE HERE  ###\n",
    "\n",
    "# printing the coordinates of the first Mars location (uncomment following line of code)\n",
    "# print coordinates[0][0]+ coordinates[1][0], coordinates[2][0]"
   ]
  },
  {
   "cell_type": "markdown",
   "metadata": {},
   "source": [
    "**Expected Result:**\n",
    "\n",
    "<table> \n",
    "<tr> \n",
    "<td>\n",
    "**First Coordinates **\n",
    "</td>\n",
    "<td>\n",
    "[0.399104315164, 0.916843682388, 0.0106493042981]\n",
    "</td>\n",
    "</tr> \n",
    "\n",
    "</table> "
   ]
  },
  {
   "cell_type": "markdown",
   "metadata": {},
   "source": [
    "### Fitting a Plane for the Mars Orbit"
   ]
  },
  {
   "cell_type": "markdown",
   "metadata": {},
   "source": [
    "From the coordinates of Mars on the Celestial Sphere, we can fit a plane for the orbit of Mars. First we will find the parameters of this plane, and then we can plot our results!"
   ]
  },
  {
   "cell_type": "code",
   "execution_count": 10,
   "metadata": {},
   "outputs": [
    {
     "name": "stdout",
     "output_type": "stream",
     "text": [
      "[]\n"
     ]
    }
   ],
   "source": [
    "# TASK: Fit a plane of the form ax + by + z = 0 to the found Mars coordinates\n",
    "\n",
    "# plane has a fitPlane function.\n",
    "#    Input:  coordinates, list of x-y-z coordinates of Mars on the celestial sphere\n",
    "#    Output: planeParameters, list of parameters of the best-fit plane [a, b]\n",
    "\n",
    "planeParameters = []\n",
    "\n",
    "### START CODE HERE ###\n",
    "\n",
    "\n",
    "### END CODE HERE  ###\n",
    "\n",
    "print planeParameters"
   ]
  },
  {
   "cell_type": "markdown",
   "metadata": {},
   "source": [
    "**Expected Result:**\n",
    "\n",
    "<table> \n",
    "<tr> \n",
    "<td>\n",
    "** Plane Parameters (rounded): **\n",
    "</td>\n",
    "<td>\n",
    "[0.023639, -0.022105]\n",
    "</td>\n",
    "</tr> \n",
    "\n",
    "</table> "
   ]
  },
  {
   "cell_type": "markdown",
   "metadata": {},
   "source": [
    "### Plot Coordinates and Fitted Plane"
   ]
  },
  {
   "cell_type": "code",
   "execution_count": 11,
   "metadata": {},
   "outputs": [],
   "source": [
    "# TASK: Plot the coordinates and fitted plane\n",
    "# plane has a plotPlane function.\n",
    "#    Input:  coordinates, list of x-y-z coordinates of Mars on the celestial sphere\n",
    "#            planeParameters, list of parameters of the best-fit plane [a, b]\n",
    "#    Output: required plot\n",
    "\n",
    "### START CODE HERE ###\n",
    "\n",
    "\n",
    "### END CODE HERE  ###"
   ]
  },
  {
   "cell_type": "markdown",
   "metadata": {},
   "source": [
    "**Expected Result:**\n",
    "\n",
    "<img src=\"images/planePlot.png\">"
   ]
  },
  {
   "cell_type": "markdown",
   "metadata": {},
   "source": [
    "### Find Mars Orbital Inclination"
   ]
  },
  {
   "cell_type": "code",
   "execution_count": 12,
   "metadata": {},
   "outputs": [
    {
     "name": "stdout",
     "output_type": "stream",
     "text": [
      "Orbital Inclination: None\n"
     ]
    }
   ],
   "source": [
    "# TASK: Find the Mars orbital inclination with respect to the ecliptic plane\n",
    "\n",
    "# plane has a findInclination function.\n",
    "#    Input:  planeParameters, parameters of the best-fit plane\n",
    "#    Output: orbitalInclination\n",
    "\n",
    "orbitalInclination = None\n",
    "\n",
    "### START CODE HERE ###\n",
    "\n",
    "\n",
    "### END CODE HERE  ###\n",
    "\n",
    "print \"Orbital Inclination:\", orbitalInclination"
   ]
  },
  {
   "cell_type": "markdown",
   "metadata": {},
   "source": [
    "**Expected Result:**\n",
    "\n",
    "<table> \n",
    "<tr> \n",
    "<td>\n",
    "** Orbital Inclination: **\n",
    "</td>\n",
    "<td>\n",
    "1.85370378718\n",
    "</td>\n",
    "</tr> \n",
    "\n",
    "</table> "
   ]
  },
  {
   "cell_type": "markdown",
   "metadata": {},
   "source": [
    "## Part 3: Fitting a Circle & Ellipse for the Mars Orbit"
   ]
  },
  {
   "cell_type": "markdown",
   "metadata": {},
   "source": [
    "Congratulations! We've managed to triangulate the projections of Mars on the ecliptic plane, and fit a plane for it's orbit! This alone is quite the feat! Since we're so close to the end, let's combine these results and finish our recreation of Kepler's breakthrough!"
   ]
  },
  {
   "cell_type": "code",
   "execution_count": 11,
   "metadata": {},
   "outputs": [],
   "source": [
    "import math\n",
    "from mars_orbit import orbit"
   ]
  },
  {
   "cell_type": "markdown",
   "metadata": {},
   "source": [
    "### Lifting Mars Projections onto Orbital Plane"
   ]
  },
  {
   "cell_type": "code",
   "execution_count": 18,
   "metadata": {},
   "outputs": [
    {
     "name": "stdout",
     "output_type": "stream",
     "text": [
      "None\n"
     ]
    }
   ],
   "source": [
    "# TASK: Lift the triangulated marsLocations from Part 1 onto the orbital plane found in Part 2.\n",
    "\n",
    "# orbit has a liftCoordinates function.\n",
    "#    Input:  planeParameters, parameters of the best-fit plane\n",
    "#            marsLocations, triangulated Mars locations (from Part 1)\n",
    "#    Output: liftedMarsLocations, positions of Mars on its Orbital plane\n",
    "\n",
    "liftedMarsLocations = None\n",
    "\n",
    "### START CODE HERE ###\n",
    "\n",
    "\n",
    "### END CODE HERE  ###\n",
    "\n",
    "print liftedMarsLocations"
   ]
  },
  {
   "cell_type": "markdown",
   "metadata": {},
   "source": [
    "**Expected Result:**\n",
    "\n",
    "<table> \n",
    "<tr> \n",
    "<td>\n",
    "**Lifted Mars Locations (rounded): **\n",
    "</td>\n",
    "<td>\n",
    "[[-1.452, 0.865, 0.053], [1.195, -0.686, -0.043], [1.0738, 1.051, -0.002], [-1.632, -0.148, 0.035], [-1.553, 0.624, 0.050]]\n",
    "\n",
    "</td>\n",
    "</tr> \n",
    "\n",
    "</table> "
   ]
  },
  {
   "cell_type": "markdown",
   "metadata": {},
   "source": [
    "We now have the true locations of Mars on its Orbital plane. Now, let's go ahead and fit both a Circle and an Ellipse for the orbit. We will then examine the error produced by each of these shapes, and this should tell us the actual shape of the orbit!"
   ]
  },
  {
   "cell_type": "markdown",
   "metadata": {},
   "source": [
    "### Fitting a Circle for the Orbit"
   ]
  },
  {
   "cell_type": "code",
   "execution_count": 19,
   "metadata": {},
   "outputs": [
    {
     "name": "stdout",
     "output_type": "stream",
     "text": [
      "Circle Radius: None\n",
      "Circle Error (absolute): None\n"
     ]
    }
   ],
   "source": [
    "# TASK: Fit a circle to the to trueMarsLocations\n",
    "\n",
    "# orbit has a fitCircle function.\n",
    "#    Input:  liftedMarsLocations, locations of Mars on it's Orbital plane  \n",
    "#    Output: circleRadius, radius of best fit circle\n",
    "#            circleLoss, error for fitting a circle for the orbit\n",
    "\n",
    "circleRadius = None\n",
    "circleLoss = None\n",
    "\n",
    "### START CODE HERE ###\n",
    "\n",
    "\n",
    "### END CODE HERE  ###\n",
    "print \"Circle Radius:\", circleRadius\n",
    "print \"Circle Error (absolute):\", circleLoss \n",
    "\n",
    "# Calculating the percentage error for the best-fit circle (uncomment the following lines)\n",
    "#circlePercentageError = math.sqrt(circleLoss) / circleRadius * 100.0\n",
    "#print \"Circle Error (percentage):\", circlePercentageError"
   ]
  },
  {
   "cell_type": "markdown",
   "metadata": {},
   "source": [
    "**Expected Result:**\n",
    "\n",
    "<table> \n",
    "<tr> \n",
    "<td>\n",
    "**Circle Radius: **\n",
    "</td>\n",
    "<td>\n",
    "\n",
    "1.577855\n",
    "</td>\n",
    "</tr> \n",
    "<tr>\n",
    "    <td>\n",
    "        **Circle Error (absolute): **\n",
    "    </td>\n",
    "    <td>\n",
    "        0.071326\n",
    "    </td>\n",
    "</tr>\n",
    "<tr>\n",
    "    <td>\n",
    "        **Circle Error (percentage)**\n",
    "    </td>\n",
    "    <td>\n",
    "        16.92617 %\n",
    "    </td>\n",
    "</tr>\n",
    "    \n",
    "        \n",
    "\n",
    "</table> "
   ]
  },
  {
   "cell_type": "markdown",
   "metadata": {},
   "source": [
    "### Fitting an Ellipse for the Orbit"
   ]
  },
  {
   "cell_type": "code",
   "execution_count": 16,
   "metadata": {},
   "outputs": [
    {
     "name": "stdout",
     "output_type": "stream",
     "text": [
      "Ellipse Parameters: None\n",
      "Ellipse Error: None\n"
     ]
    }
   ],
   "source": [
    "# TASK: Fit an ellipse to the to trueMarsLocations\n",
    "\n",
    "# orbit has a fitEllipse function.\n",
    "#    Input:  liftedMarsLocations, locations of Mars on it's Orbital plane  \n",
    "#    Output: ellipseParameters, parameters of fitted ellipse\n",
    "#            circleLoss, error for fitting an ellipse for the orbit\n",
    "\n",
    "ellipseParameters = None\n",
    "ellipseLoss = None\n",
    "\n",
    "### START CODE HERE ###\n",
    "\n",
    "\n",
    "### END CODE HERE  ###\n",
    "\n",
    "print \"Ellipse Parameters:\", ellipseParameters\n",
    "print \"Ellipse Error:\", ellipseLoss \n",
    "\n",
    "# Calculating the percentage error for the best-fit circle (uncomment the following lines)\n",
    "#semimajorAxis = ellipseParameters[2] / 2.0\n",
    "#ellipsePercentageError = math.sqrt(ellipseLoss) / semimajorAxis * 100.0\n",
    "#print \"Ellipse Error (percentage):\", ellipsePercentageError"
   ]
  },
  {
   "cell_type": "markdown",
   "metadata": {},
   "source": [
    "**Expected Result:**\n",
    "\n",
    "<table> \n",
    "<tr> \n",
    "<td>\n",
    "** Ellipse Parameters: **\n",
    "</td>\n",
    "<td>\n",
    "[-0.24055, 0.19854, 3.06787]\n",
    "\n",
    "</td>\n",
    "</tr> \n",
    "<tr>\n",
    "    <td>\n",
    "        **Ellipse Error (absolute): **\n",
    "    </td>\n",
    "    <td>\n",
    "        0.00024\n",
    "    </td>\n",
    "</tr>\n",
    "<tr>\n",
    "    <td>\n",
    "        **Ellipse Error (percentage): **\n",
    "    </td>\n",
    "    <td>\n",
    "        1.01514 %\n",
    "    </td>\n",
    "</tr>\n",
    "    \n",
    "        \n",
    "\n",
    "</table> "
   ]
  },
  {
   "cell_type": "markdown",
   "metadata": {},
   "source": [
    "### Comparing Circular and Elliptical Orbital Error"
   ]
  },
  {
   "cell_type": "markdown",
   "metadata": {},
   "source": [
    "Fitting a circle for the Mars Orbit has yielded the following errors:"
   ]
  },
  {
   "cell_type": "markdown",
   "metadata": {},
   "source": [
    "<table>\n",
    "<tr>\n",
    "    <td>\n",
    "        **Circle Percentage Error: **\n",
    "    </td>\n",
    "    <td>\n",
    "        16.92617 %\n",
    "    </td>\n",
    "</tr>\n",
    "<tr>\n",
    "    <td>\n",
    "        **Ellipse Percentage Error: **\n",
    "    </td>\n",
    "    <td>\n",
    "        1.01514 %\n",
    "    </td>\n",
    "</tr>   \n",
    "\n",
    "</table> "
   ]
  },
  {
   "cell_type": "markdown",
   "metadata": {},
   "source": [
    "We see that fitting a circle has about 16 times the error of fitting an Ellipse! Thus, the orbit of Mars must be elliptical! Let's plot a figure to confirm this."
   ]
  },
  {
   "cell_type": "markdown",
   "metadata": {},
   "source": [
    "### Plotting Comparison of Circular and Elliptical Orbits"
   ]
  },
  {
   "cell_type": "code",
   "execution_count": 20,
   "metadata": {},
   "outputs": [],
   "source": [
    "# TASK: Plot circular and elliptical orbits for Mars to compare them\n",
    "\n",
    "# orbit has a plotBoth function.\n",
    "#    Input:  liftedMarsLocations, locations of Mars on it's Orbital plane\n",
    "#            circleRadius, radius of the fitted circle\n",
    "#            ellipseParameters, parameters of fitted ellipse\n",
    "#    Output: required plot\n",
    "\n",
    "ellipseParameters = None\n",
    "ellipseLoss = None\n",
    "\n",
    "### START CODE HERE ###\n",
    "\n",
    "\n",
    "### END CODE HERE  ###"
   ]
  },
  {
   "cell_type": "markdown",
   "metadata": {},
   "source": [
    "**Expected Result:**\n",
    "\n",
    "<img src=\"images/orbitPlot.png\">"
   ]
  },
  {
   "cell_type": "markdown",
   "metadata": {},
   "source": [
    "Thus, we see that the Ellipse is a near-perfect fit to our data whereas the Circle is quite skewed. Thus we've  validated Kepler's results! Congratulations on completing this programming exercise!"
   ]
  },
  {
   "cell_type": "markdown",
   "metadata": {},
   "source": [
    "** Note: **\n",
    "We hope you enjoyed this workshop. Please direct any questions or feedback to Pulkit Singh (pulkit@princeton.edu). If you are curious about how any of the functions work, feel free to open up the code to take a look!"
   ]
  }
 ],
 "metadata": {
  "kernelspec": {
   "display_name": "Python 2",
   "language": "python",
   "name": "python2"
  },
  "language_info": {
   "codemirror_mode": {
    "name": "ipython",
    "version": 2
   },
   "file_extension": ".py",
   "mimetype": "text/x-python",
   "name": "python",
   "nbconvert_exporter": "python",
   "pygments_lexer": "ipython2",
   "version": "2.7.15"
  }
 },
 "nbformat": 4,
 "nbformat_minor": 2
}
